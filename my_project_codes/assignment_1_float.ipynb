{
 "cells": [
  {
   "cell_type": "code",
   "execution_count": 2,
   "id": "96cae15f",
   "metadata": {},
   "outputs": [
    {
     "name": "stdout",
     "output_type": "stream",
     "text": [
      "<class 'float'>\n",
      "805091193392\n"
     ]
    }
   ],
   "source": [
    "# Q. Declare a float value and store it in a variable.\n",
    "# Check the type and print the id of the same.\n",
    "\n",
    "a=10.2\n",
    "print(type(a))\n",
    "print(id(a))"
   ]
  },
  {
   "cell_type": "code",
   "execution_count": 3,
   "id": "bb1d9e62",
   "metadata": {},
   "outputs": [
    {
     "name": "stdout",
     "output_type": "stream",
     "text": [
      "sum of both numbers is:  12.5\n",
      "difference between them is:  7.8999999999999995\n",
      "product of both numbers is:  23.459999999999997\n",
      "value after dividing first num with second number is:  4.434782608695652\n",
      "remainder after dividing first number with second number is:  1.0\n",
      "quotient after dividing first number with second number is:  4.0\n",
      "result of the first num to the power of the second numbe is:  208.82399263596477\n"
     ]
    }
   ],
   "source": [
    "# Q. Arithmetic Operations on float\n",
    "# Take two different float values.\n",
    "# Store them in two different variables.\n",
    "# Do below operations on them:-\n",
    "#  Find sum of both numbers\n",
    "#  Find difference between them\n",
    "#  Find the product of both numbers.\n",
    "#  Find value after dividing first num with second number\n",
    "#  Find the remainder after dividing first number with second number\n",
    "#  Find the quotient after dividing first number with second number\n",
    "#  Find the result of the first num to the power of the second number.\n",
    "\n",
    "\n",
    "a=10.2\n",
    "b=2.3\n",
    "print(\"sum of both numbers is: \", a+b)\n",
    "print(\"difference between them is: \", a-b)\n",
    "print(\"product of both numbers is: \", a*b)\n",
    "print(\"value after dividing first num with second number is: \", a/b)\n",
    "print(\"remainder after dividing first number with second number is: \", a%b)\n",
    "print(\"quotient after dividing first number with second number is: \", a//b)\n",
    "print(\"result of the first num to the power of the second number is: \", a**b)"
   ]
  },
  {
   "cell_type": "code",
   "execution_count": 4,
   "id": "b13c6910",
   "metadata": {},
   "outputs": [
    {
     "name": "stdout",
     "output_type": "stream",
     "text": [
      "False\n",
      "True\n",
      "False\n",
      "True\n"
     ]
    }
   ],
   "source": [
    "# Q. Comparison Operators on float\n",
    "# Take two different float values.\n",
    "# Store them in two different variables.\n",
    "# Do below operations on them:-\n",
    "#  Compare these two numbers with below operator:-\n",
    "#  Greater than, '>'\n",
    "#  Smaller than, '<'\n",
    "#  Greater than or equal to, '>='\n",
    "#  Less than or equal to, '<='\n",
    "# Observe their output(return type should be boolean)\n",
    "\n",
    "a=10.2\n",
    "b=2.3\n",
    "print(a<b)\n",
    "print(a>b)\n",
    "print(a<=b)\n",
    "print(a>=b)\n"
   ]
  },
  {
   "cell_type": "code",
   "execution_count": 5,
   "id": "cdceba27",
   "metadata": {},
   "outputs": [
    {
     "name": "stdout",
     "output_type": "stream",
     "text": [
      "False\n",
      "True\n"
     ]
    }
   ],
   "source": [
    "# Q. Equality Operator\n",
    "# Take two different float values.\n",
    "# Store them in two different variables.\n",
    "# Equate them using equality operators (==, !=)\n",
    "# Observe the output(return type should be boolean)\n",
    "\n",
    "a=10.2\n",
    "b=2.3\n",
    "print(a==b)\n",
    "print(a!=b)"
   ]
  },
  {
   "cell_type": "code",
   "execution_count": 6,
   "id": "83e8f2ac",
   "metadata": {},
   "outputs": [
    {
     "name": "stdout",
     "output_type": "stream",
     "text": [
      "20.3\n",
      "0.0\n",
      "0.0\n",
      "0.0\n",
      "10.2\n",
      "20.3\n",
      "20.3\n",
      "0.0\n",
      "False\n",
      "True\n"
     ]
    }
   ],
   "source": [
    "# Q. Logical operators\n",
    "# Observe the output of below code\n",
    "# Cross check the output manually\n",
    "print(10.20 and 20.30) #both are true and second value taken\n",
    "#>Output is 20.3\n",
    "print(0.0 and 20.30) #First is false so first value\n",
    "#taken->Output is 0.0\n",
    "print(20.30 and 0.0) #Goes to till second and second value is\n",
    "#false so second is taken>Output is 0.0\n",
    "print(0.0 and 0.0) #First is false so first value is\n",
    "#taken->Output is 0.0\n",
    "print(10.20 or 20.30) #First is True so first value is\n",
    "#taken>Output is 10.2\n",
    "print(0.0 or 20.30) #Goes to till second and second is true\n",
    "#second value is taken->Output is 20.3\n",
    "print(20.30 or 0.0) #First is True so first value is\n",
    "#taken->Output is 20.3\n",
    "print(0.0 or 0.0) #Goes to till second and second is also\n",
    "#false and second value is taken>Output is 0.0\n",
    "print(not 10.20) #-Not of true is false->Output is False\n",
    "print(not 0.0) #Not of false is True>Output is True"
   ]
  },
  {
   "cell_type": "code",
   "execution_count": 11,
   "id": "d794a9c6",
   "metadata": {},
   "outputs": [
    {
     "name": "stdout",
     "output_type": "stream",
     "text": [
      "805091193200\n",
      "805074312016\n",
      "False\n",
      "True\n",
      "805091192912\n",
      "805091192912\n"
     ]
    }
   ],
   "source": [
    "\n",
    "# Q. What is the output of expression inside print statement. Cross check\n",
    "# before running the program.\n",
    "a = 10.20\n",
    "b = 10.20\n",
    "print(id(a))\n",
    "print(id(b))\n",
    "print(a is b) #True or False? True 10.20<256   # False\n",
    "print(a is not b) #True or False? False         #True\n",
    "# Why the Id of float values are different when the same value is\n",
    "# assigned to two different variables\n",
    "a = 10.5\n",
    "b = 10.5   # but id will be same if I assign the variable\n",
    "# having float i.e. a=c then both a and c's Id are same\n",
    "c=a=b\n",
    "print(id(a))\n",
    "print(id(b))\n"
   ]
  },
  {
   "cell_type": "code",
   "execution_count": null,
   "id": "e07f5b43",
   "metadata": {},
   "outputs": [],
   "source": [
    "# Q. Bitwise operation is not applicable between instances of float.\n",
    "#    Why the Id of float values are different when the same value is\n",
    "#    assigned to two different variables\n",
    "#    ex: a = 10.5 b=10.5. but id will be same if I assign the variable\n",
    "#    having float i.e. a=c then both a and c's Id are same\n",
    "#    Object reusability concept is not applicable on float values.\n",
    "\n",
    "\n"
   ]
  },
  {
   "cell_type": "code",
   "execution_count": 12,
   "id": "b79b360e",
   "metadata": {},
   "outputs": [
    {
     "name": "stdout",
     "output_type": "stream",
     "text": [
      "True\n",
      "True\n",
      "True\n",
      "True\n",
      "True\n",
      "True\n"
     ]
    }
   ],
   "source": [
    "# Q. Membership operation\n",
    "# in, not in are two membership operators and it returns boolean value\n",
    "print('2.7' in 'Python2.7.8') #True\n",
    "print(10.20 in [10,10.20,10+20j,'Python']) #True\n",
    "print(10.20 in (10,10.20,10+20j,'Python')) # True\n",
    "print(20.30 in {1,20.30,30+40j}) # True\n",
    "print(2.3 in {1:100, 2.3:200, 30+40j:300}) # True\n",
    "print(10 in range(20)) # True"
   ]
  },
  {
   "cell_type": "code",
   "execution_count": null,
   "id": "6c546620",
   "metadata": {},
   "outputs": [],
   "source": []
  },
  {
   "cell_type": "code",
   "execution_count": null,
   "id": "b4e0fab3",
   "metadata": {},
   "outputs": [],
   "source": []
  }
 ],
 "metadata": {
  "kernelspec": {
   "display_name": "Python 3",
   "language": "python",
   "name": "python3"
  },
  "language_info": {
   "codemirror_mode": {
    "name": "ipython",
    "version": 3
   },
   "file_extension": ".py",
   "mimetype": "text/x-python",
   "name": "python",
   "nbconvert_exporter": "python",
   "pygments_lexer": "ipython3",
   "version": "3.8.8"
  }
 },
 "nbformat": 4,
 "nbformat_minor": 5
}
